{
 "cells": [
  {
   "cell_type": "markdown",
   "id": "d163383e",
   "metadata": {},
   "source": [
    "## Python Regular Expressions"
   ]
  },
  {
   "cell_type": "markdown",
   "id": "d23fbf6f",
   "metadata": {},
   "source": [
    "* Regular expressions are a powerful language for matching text patterns.\n",
    "* The Python \"re\" module provides regular expression support."
   ]
  },
  {
   "cell_type": "code",
   "execution_count": null,
   "id": "119de6fb",
   "metadata": {},
   "outputs": [],
   "source": [
    "match = re.search(pat, str)"
   ]
  },
  {
   "cell_type": "markdown",
   "id": "328b0b03",
   "metadata": {},
   "source": [
    "The re.search() method takes a regular expression pattern and a string and searches for that pattern within the string. If the search is successful, search() returns a match object or None otherwise"
   ]
  },
  {
   "cell_type": "code",
   "execution_count": 37,
   "id": "a8a23529",
   "metadata": {},
   "outputs": [
    {
     "name": "stdout",
     "output_type": "stream",
     "text": [
      "found word:cat\n"
     ]
    }
   ],
   "source": [
    "# Example\n",
    "import re\n",
    "\n",
    "str = 'an example word:catt!!'\n",
    "match = re.search(r'word:\\w\\w\\w', str)\n",
    "# If-statement after search() tests if it succeeded\n",
    "if match:\n",
    "  print('found', match.group()) ## 'found word:cat'\n",
    "else:\n",
    "  print('did not find')\n"
   ]
  },
  {
   "cell_type": "markdown",
   "id": "7eb9cc22",
   "metadata": {},
   "source": [
    "### Explanation\n",
    "* match = re.search(pat, str) stores the search result in a variable named \"match\"\n",
    "* if-statement tests the match -- if true the search succeeded and match.group() is the matching text (e.g. 'word:cat'). Otherwise if the match is false (None to be more specific), then the search did not succeed, and there is no matching text.\n",
    "\n",
    "* The 'r' at the start of the pattern string designates a python \"raw\" string which passes through backslashes without change "
   ]
  },
  {
   "cell_type": "code",
   "execution_count": 41,
   "id": "0a35e05f",
   "metadata": {},
   "outputs": [
    {
     "name": "stdout",
     "output_type": "stream",
     "text": [
      "<re.Match object; span=(1, 5), match='iiii'>\n"
     ]
    }
   ],
   "source": [
    "# Other Examples\n",
    "## All of the pattern must match, but it may appear anywhere.\n",
    "match = re.search(r'iii', 'piiiig') # found, match.group() == \"iii\"\n",
    "print(match)"
   ]
  },
  {
   "cell_type": "code",
   "execution_count": 43,
   "id": "4dd8d03e",
   "metadata": {},
   "outputs": [
    {
     "name": "stdout",
     "output_type": "stream",
     "text": [
      "<re.Match object; span=(3, 5), match='ig'>\n"
     ]
    }
   ],
   "source": [
    "match = re.search(r'ig', 'piig') # not found, match == None\n",
    "print(match)"
   ]
  },
  {
   "cell_type": "code",
   "execution_count": 46,
   "id": "b7ad9ba1",
   "metadata": {},
   "outputs": [
    {
     "data": {
      "text/plain": [
       "<re.Match object; span=(2, 5), match='iig'>"
      ]
     },
     "execution_count": 46,
     "metadata": {},
     "output_type": "execute_result"
    }
   ],
   "source": [
    "## . = any char but \\n\n",
    "match = re.search(r'..g', 'piiig') # found, match.group() == \"iig\"\n",
    "match"
   ]
  },
  {
   "cell_type": "code",
   "execution_count": 49,
   "id": "48fbc42c",
   "metadata": {},
   "outputs": [
    {
     "data": {
      "text/plain": [
       "<re.Match object; span=(1, 3), match='12'>"
      ]
     },
     "execution_count": 49,
     "metadata": {},
     "output_type": "execute_result"
    }
   ],
   "source": [
    "## \\d = digit char, \\w = word char\n",
    "match = re.search(r'\\d\\d', 'p123g') # found, match.group() == \"123\"\n",
    "match"
   ]
  },
  {
   "cell_type": "code",
   "execution_count": 52,
   "id": "f1257109",
   "metadata": {},
   "outputs": [
    {
     "data": {
      "text/plain": [
       "<re.Match object; span=(2, 9), match='abcdfff'>"
      ]
     },
     "execution_count": 52,
     "metadata": {},
     "output_type": "execute_result"
    }
   ],
   "source": [
    "#\\w = word char\n",
    "match = re.search(r'\\w+', '@@abcdfff!!') # found, match.group() == \"abc\"\n",
    "match"
   ]
  },
  {
   "cell_type": "code",
   "execution_count": 14,
   "id": "463395f8",
   "metadata": {},
   "outputs": [
    {
     "name": "stdout",
     "output_type": "stream",
     "text": [
      "b@google\n"
     ]
    }
   ],
   "source": [
    "str = 'purple alice-b@google.com monkey dishwasher'\n",
    "match = re.search(r'\\w+@\\w+', str)\n",
    "if match:\n",
    "    print(match.group())  ## 'b@google'\n"
   ]
  },
  {
   "cell_type": "markdown",
   "id": "9881a24b",
   "metadata": {},
   "source": [
    "The search does not get the whole email address in this case because the \\w does not match the '-' or '.' in the address. We'll fix this using the regular expression features below.\n",
    "\n"
   ]
  },
  {
   "cell_type": "markdown",
   "id": "f29da064",
   "metadata": {},
   "source": [
    "Square brackets can be used to indicate a set of chars, so [abc] matches 'a' or 'b' or 'c'. The codes \\w, \\s etc. work inside square brackets too with the one exception that dot (.) just means a literal dot. For the emails problem, the square brackets are an easy way to add '.' and '-' to the set of chars which can appear around the @ with the pattern r'[\\w.-]+@[\\w.-]+' to get the whole email address:"
   ]
  },
  {
   "cell_type": "code",
   "execution_count": 55,
   "id": "9842f2d5",
   "metadata": {},
   "outputs": [
    {
     "name": "stdout",
     "output_type": "stream",
     "text": [
      "alice-b@google.com\n"
     ]
    }
   ],
   "source": [
    "str = 'purple alice-b@google.com monkey dishwasher'\n",
    "match = re.search(r'[\\w.-]+@[\\w.-]+', str)\n",
    "if match:\n",
    "    print(match.group())  ## 'alice-b@google.com'\n",
    "def str(value):\n",
    "    .find(\"@\")\n",
    "    [::-1]"
   ]
  },
  {
   "cell_type": "code",
   "execution_count": null,
   "id": "65b51c33",
   "metadata": {},
   "outputs": [],
   "source": []
  }
 ],
 "metadata": {
  "kernelspec": {
   "display_name": "Python 3 (ipykernel)",
   "language": "python",
   "name": "python3"
  },
  "language_info": {
   "codemirror_mode": {
    "name": "ipython",
    "version": 3
   },
   "file_extension": ".py",
   "mimetype": "text/x-python",
   "name": "python",
   "nbconvert_exporter": "python",
   "pygments_lexer": "ipython3",
   "version": "3.9.12"
  }
 },
 "nbformat": 4,
 "nbformat_minor": 5
}
